{
  "metadata": {
    "language_info": {
      "codemirror_mode": {
        "name": "python",
        "version": 3
      },
      "file_extension": ".py",
      "mimetype": "text/x-python",
      "name": "python",
      "nbconvert_exporter": "python",
      "pygments_lexer": "ipython3",
      "version": "3.8"
    },
    "kernelspec": {
      "name": "python",
      "display_name": "Python (Pyodide)",
      "language": "python"
    }
  },
  "nbformat_minor": 4,
  "nbformat": 4,
  "cells": [
    {
      "cell_type": "markdown",
      "source": "## Discrete Mathematics Project\n",
      "metadata": {}
    },
    {
      "cell_type": "markdown",
      "source": "### Inference and Decision Making\n\n<p>The following code defines a logical argument using variables P, Q, and R, and the logical operators and and or:</p>\n<ul>\n  <li>The logical argument is defined as (P and Q) or (not P and R).</li>\n  <li>The code then checks if the logical argument is valid using conditional statements.</li>\n  <li>If the logical argument is true, the code outputs the message \"The logical argument is valid.\" using the print() function.</li>\n  <li>If the logical argument is false, the code outputs the message \"The logical argument is invalid.\" using the print() function.</li>\n</ul>\n",
      "metadata": {}
    },
    {
      "cell_type": "code",
      "source": "class LogicalArgument:\n    \n    def __init__(self, P, Q, R):\n        self.P = P\n        self.Q = Q\n        self.R = R\n        \n    def define_logical_arg(self):\n        self.logical_arg = (self.P and self.Q) or (not self.P and self.R)\n        \n    def check_logical_arg(self):\n        if self.logical_arg:\n            print(\"The logical argument is valid.\")\n        else:\n            print(\"The logical argument is invalid.\")\n            \n    def define_meaning_of_variables(self):\n        meaning_of_P = \"P represents the presence of symptom A.\"\n        meaning_of_Q = \"Q represents the presence of symptom B.\"\n        meaning_of_R = \"R represents the presence of symptom C.\"\n        self.meaning_of_variables = f\"{meaning_of_P}\\n{meaning_of_Q}\\n{meaning_of_R}\\n\"\n        \n    def define_meaning_of_logical_arg(self):\n        meaning_of_logical_arg = \"The logical argument (P and Q) or (not P and R) represents the diagnosis of a disease based on the presence of symptoms. If both symptom A and symptom B are present or both symptom A and symptom C are absent, the diagnosis is positive. Otherwise, the diagnosis is negative.\"\n        self.meaning_of_logical_arg = meaning_of_logical_arg\n        \n    def explain_conditional_statements(self):\n        explanation_of_conditional_statements = \"The code checks whether the logical argument is true or false using an if-else statement. If the logical argument is true, it means that the diagnosis is positive, and the code prints 'The logical argument is valid.' If the logical argument is false, it means that the diagnosis is negative, and the code prints 'The logical argument is invalid.'\"\n        self.explanation_of_conditional_statements = explanation_of_conditional_statements\n        \n    def print_meaning_of_variables_and_logical_arg(self):\n        self.define_meaning_of_variables()\n        self.define_meaning_of_logical_arg()\n        print(self.meaning_of_variables)\n        print(self.meaning_of_logical_arg)\n        \n    def print_explanation_of_conditional_statements(self):\n        self.explain_conditional_statements()\n        print(self.explanation_of_conditional_statements)\n        \n    def run(self):\n        self.define_logical_arg()\n        self.check_logical_arg()\n        self.print_meaning_of_variables_and_logical_arg()\n        self.print_explanation_of_conditional_statements()\n        \n# First Example\nprint(\"\\n\\nFirst Example\")\nlogical_argument = LogicalArgument(True, False, True)\nlogical_argument.run()\n\n# Second Example\nprint(\"\\n\\nSecond Example\")\nmotion_sensor = True\ndoor_sensor = False\nwindow_sensor = True\nintruder_present = (motion_sensor and not door_sensor and not window_sensor) or (not motion_sensor and door_sensor and not window_sensor) or (not motion_sensor and not door_sensor and window_sensor)\nif intruder_present:\n    print(\"Intruder detected! Alert authorities immediately.\")\nelse:\n    print(\"No intruders detected. System is functioning normally.\")\n\n# Third Example\nprint(\"\\n\\nThird Example\")\nsymptom1 = True\nsymptom2 = False\nsymptom3 = True\nif symptom1 and symptom2:\n    condition = \"Condition A\"\nelif symptom1 and not symptom2 and not symptom3:\n    condition = \"Condition B\"\nelif not symptom1 and symptom3:\n    condition = \"Condition C\"\nelse:\n    condition = \"Unknown\"\nprint(\"The most likely medical condition is:\", condition)\n",
      "metadata": {
        "trusted": true
      },
      "execution_count": 30,
      "outputs": [
        {
          "name": "stdout",
          "text": "\n\nFirst Example\nThe logical argument is invalid.\nP represents the presence of symptom A.\nQ represents the presence of symptom B.\nR represents the presence of symptom C.\n\nThe logical argument (P and Q) or (not P and R) represents the diagnosis of a disease based on the presence of symptoms. If both symptom A and symptom B are present or both symptom A and symptom C are absent, the diagnosis is positive. Otherwise, the diagnosis is negative.\nThe code checks whether the logical argument is true or false using an if-else statement. If the logical argument is true, it means that the diagnosis is positive, and the code prints 'The logical argument is valid.' If the logical argument is false, it means that the diagnosis is negative, and the code prints 'The logical argument is invalid.'\n\n\nSecond Example\nNo intruders detected. System is functioning normally.\n\n\nThird Example\nThe most likely medical condition is: Unknown\n",
          "output_type": "stream"
        }
      ]
    },
    {
      "cell_type": "markdown",
      "source": "### Using Inference Rules To Make Decisions\n<p><b>The following code defines a set of symptoms as variables symptom1, symptom2, and symptom3:</b></p>\n<ul>\n  <li>The code then defines a set of inference rules to determine the most likely medical condition based on the symptoms:</li>\n  <ul>\n    <li>If symptom1 and symptom2 are both true, the condition is determined to be \"Condition A\".</li>\n    <li>If symptom1 is true and symptom2 and symptom3 are both false, the condition is determined to be \"Condition B\".</li>\n    <li>If symptom1 is false and symptom3 is true, the condition is determined to be \"Condition C\".</li>\n    <li>If none of the above conditions are met, the condition is determined to be \"Unknown\".</li>\n  </ul>\n  <li>The code then outputs the most likely medical condition based on the inference rules using the print() function.</li>\n</ul>",
      "metadata": {}
    },
    {
      "cell_type": "code",
      "source": "class MedicalDiagnosis:\n    def __init__(self):\n        self.medical_conditions = {\n            \"Condition A\": {\"Symptom 1\": True, \"Symptom 2\": True},\n            \"Condition B\": {\"Symptom 1\": True, \"Symptom 2\": False, \"Symptom 3\": False},\n            \"Condition C\": {\"Symptom 1\": False, \"Symptom 3\": True}\n        }\n\n    def compare_symptoms(self, symptoms, condition):\n        for symptom, value in symptoms.items():\n            if symptom not in condition:\n                return False\n            if condition[symptom] != value:\n                return False\n        return True\n\n    def diagnose(self, symptom1, symptom2, symptom3):\n        condition = \"Unknown\"\n        for condition_name, symptoms in self.medical_conditions.items():\n            if self.compare_symptoms({\"Symptom 1\": symptom1, \"Symptom 2\": symptom2, \"Symptom 3\": symptom3}, symptoms):\n                condition = condition_name\n                break\n\n        return condition\n\n\nclass MathUtils:\n    def sum_even_numbers(self, numbers):\n        sum_of_evens = 0\n        for number in numbers:\n            if number % 2 == 0:\n                sum_of_evens += number\n        return sum_of_evens\n    \n    \nprint(\"\\n\\nFirst Example\")\nmedical_diagnosis = MedicalDiagnosis()\nmost_likely_condition = medical_diagnosis.diagnose(True, False, True)\nprint(\"The most likely medical condition is:\", most_likely_condition)\n\n\nprint(\"\\n\\nSecond Example\")\nmath_utils = MathUtils()\nnumbers = [1, 2, 3, 4, 5, 6, 7, 8, 9, 10]\nresult = math_utils.sum_even_numbers(numbers)\nprint(\"The sum of even numbers in the list is:\", result)\n\n\n",
      "metadata": {
        "trusted": true
      },
      "execution_count": 32,
      "outputs": [
        {
          "name": "stdout",
          "text": "\n\nFirst Example\nThe most likely medical condition is: Unknown\n\n\nSecond Example\nThe sum of even numbers in the list is: 30\n",
          "output_type": "stream"
        }
      ]
    },
    {
      "cell_type": "markdown",
      "source": "#### Inference Rules-Based System Faults and Maintenance\n<body>\n    <ul>\n      <li>The code defines the current state of the system components using the variables <b>component1, component2, and component3.</b></li>\n      <li>It then defines a set of inference rules using the <b>if-elif-else statement</b> to identify faults in the system components and generate maintenance actions based on the faults identified. </li>\n      <li>The first rule checks if component1 is <b>\"Faulty\"</b> and assigns the maintenance action <b>\"Replace component 1\"</b> if it is. </li>\n      <li>The second rule checks if component2 is <b>\"Faulty\"</b> and assigns the maintenance action <b>\"Repair component 2\"</b> if it is. </li>\n      <li>The third rule checks if component3 is <b>\"Faulty\"</b> and assigns the maintenance action <b>\"Replace component 3\"</b> if it is. </li>\n      <li>If none of the rules match, the action is set to <b>\"No action required\".</b> </li>\n      <li>Finally, the code outputs the recommended maintenance action based on the inference rules using the <b>Print()function.</b></li>\n    </ul>\n</body>\n",
      "metadata": {}
    },
    {
      "cell_type": "code",
      "source": "print(\"\\n\\nFirst Example\")\nclass MaintenanceSystem:\n    def __init__(self, component1_state, component2_state, component3_state):\n        self.component1_state = component1_state\n        self.component2_state = component2_state\n        self.component3_state = component3_state\n\n    def determine_maintenance_action(self):\n        if self.component1_state == \"Faulty\":\n            return \"Replace component 1\"\n        elif self.component2_state == \"Faulty\":\n            return \"Repair component 2\"\n        elif self.component3_state == \"Faulty\":\n            return \"Replace component 3\"\n        else:\n            return \"No action required\"\n\n# Define the current state of the system components\ncomponent1 = \"OK\"\ncomponent2 = \"Faulty\"\ncomponent3 = \"OK\"\n\n# Instantiate the MaintenanceSystem class with the current state of the system components\nmaintenance_system = MaintenanceSystem(component1, component2, component3)\n\n# Call the determine_maintenance_action method and output the recommended maintenance action based on the inference rules\naction = maintenance_system.determine_maintenance_action()\nprint(\"Recommended maintenance action:\", action)\n\n\nprint(\"\\n\\nSecond Example\")\nclass SoftwareProject:\n    def __init__(self, feature1_status, feature2_status, feature3_status):\n        self.feature1_status = feature1_status\n        self.feature2_status = feature2_status\n        self.feature3_status = feature3_status\n\n    def determine_project_status(self):\n        if self.feature1_status == \"Incomplete\":\n            status = \"Behind Schedule\"\n        elif self.feature2_status == \"Incomplete\":\n            status = \"On Schedule\"\n        elif self.feature3_status == \"Incomplete\":\n            status = \"Behind Schedule\"\n        else:\n            status = \"Complete\"\n        return status\n\n# Define the current status of a software project's features\nfeature1_status = \"Complete\"\nfeature2_status = \"In Progress\"\nfeature3_status = \"Incomplete\"\n\n# Instantiate the SoftwareProject class with the current status of the project's features\nsoftware_project = SoftwareProject(feature1_status, feature2_status, feature3_status)\n\n# Call the determine_project_status method and output the current status of the project based on the inference rules\nstatus = software_project.determine_project_status()\nprint(\"Current project status:\", status)\n",
      "metadata": {
        "trusted": true
      },
      "execution_count": 34,
      "outputs": [
        {
          "name": "stdout",
          "text": "\n\nFirst Example\nRecommended maintenance action: Repair component 2\n\n\nSecond Example\nCurrent project status: Behind Schedule\n",
          "output_type": "stream"
        }
      ]
    }
  ]
}