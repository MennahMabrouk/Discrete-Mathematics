{
  "metadata": {
    "language_info": {
      "codemirror_mode": {
        "name": "python",
        "version": 3
      },
      "file_extension": ".py",
      "mimetype": "text/x-python",
      "name": "python",
      "nbconvert_exporter": "python",
      "pygments_lexer": "ipython3",
      "version": "3.8"
    },
    "kernelspec": {
      "name": "python",
      "display_name": "Python (Pyodide)",
      "language": "python"
    }
  },
  "nbformat_minor": 4,
  "nbformat": 4,
  "cells": [
    {
      "cell_type": "markdown",
      "source": "## Discrete Mathematics Project\n",
      "metadata": {}
    },
    {
      "cell_type": "markdown",
      "source": "### Inference and Decision Making\n\n<p>The following code defines a logical argument using variables P, Q, and R, and the logical operators and and or:</p>\n<ul>\n  <li>The logical argument is defined as (P and Q) or (not P and R).</li>\n  <li>The code then checks if the logical argument is valid using conditional statements.</li>\n  <li>If the logical argument is true, the code outputs the message \"The logical argument is valid.\" using the print() function.</li>\n  <li>If the logical argument is false, the code outputs the message \"The logical argument is invalid.\" using the print() function.</li>\n</ul>\n",
      "metadata": {}
    },
    {
      "cell_type": "code",
      "source": "# Define the logical argument using variables and logical operators\nP = True\nQ = False\nR = True\n\nlogical_arg = (P and Q) or (not P and R)\n\n# Check if the logical argument is valid using conditional statements\nif logical_arg:\n    print(\"The logical argument is valid.\")\nelse:\n    print(\"The logical argument is invalid.\")\n",
      "metadata": {
        "trusted": true
      },
      "execution_count": 1,
      "outputs": [
        {
          "name": "stdout",
          "text": "The logical argument is invalid.\n",
          "output_type": "stream"
        }
      ]
    },
    {
      "cell_type": "markdown",
      "source": "### Using Inference Rules To Make Decisions\n<p><b>The following code defines a set of symptoms as variables symptom1, symptom2, and symptom3:</b></p>\n<ul>\n  <li>The code then defines a set of inference rules to determine the most likely medical condition based on the symptoms:</li>\n  <ul>\n    <li>If symptom1 and symptom2 are both true, the condition is determined to be \"Condition A\".</li>\n    <li>If symptom1 is true and symptom2 and symptom3 are both false, the condition is determined to be \"Condition B\".</li>\n    <li>If symptom1 is false and symptom3 is true, the condition is determined to be \"Condition C\".</li>\n    <li>If none of the above conditions are met, the condition is determined to be \"Unknown\".</li>\n  </ul>\n  <li>The code then outputs the most likely medical condition based on the inference rules using the print() function.</li>\n</ul>",
      "metadata": {}
    },
    {
      "cell_type": "code",
      "source": "# Define the set of symptoms as variables\nsymptom1 = True\nsymptom2 = False\nsymptom3 = True\n\n# Define the set of inference rules\nif symptom1 and symptom2:\n    condition = \"Condition A\"\nelif symptom1 and not symptom2 and not symptom3:\n    condition = \"Condition B\"\nelif not symptom1 and symptom3:\n    condition = \"Condition C\"\nelse:\n    condition = \"Unknown\"\n\n# Output the most likely medical condition based on the inference rules\nprint(\"The most likely medical condition is:\", condition)\n",
      "metadata": {
        "trusted": true
      },
      "execution_count": 5,
      "outputs": [
        {
          "name": "stdout",
          "text": "The most likely medical condition is: Unknown\n",
          "output_type": "stream"
        }
      ]
    },
    {
      "cell_type": "markdown",
      "source": "#### Inference Rules-Based System Faults and Maintenance\n<body>\n    <ul>\n      <li>The code defines the current state of the system components using the variables <b>component1, component2, and component3.</b></li>\n      <li>It then defines a set of inference rules using the <b>if-elif-else statement</b> to identify faults in the system components and generate maintenance actions based on the faults identified. </li>\n      <li>The first rule checks if component1 is <b>\"Faulty\"</b> and assigns the maintenance action <b>\"Replace component 1\"</b> if it is. </li>\n      <li>The second rule checks if component2 is <b>\"Faulty\"</b> and assigns the maintenance action <b>\"Repair component 2\"</b> if it is. </li>\n      <li>The third rule checks if component3 is <b>\"Faulty\"</b> and assigns the maintenance action <b>\"Replace component 3\"</b> if it is. </li>\n      <li>If none of the rules match, the action is set to <b>\"No action required\".</b> </li>\n      <li>Finally, the code outputs the recommended maintenance action based on the inference rules using the <b>Print()function.</b></li>\n    </ul>\n</body>\n",
      "metadata": {}
    },
    {
      "cell_type": "code",
      "source": "# Define the current state of the system components\ncomponent1 = \"OK\"\ncomponent2 = \"Faulty\"\ncomponent3 = \"OK\"\n\n# Define the set of inference rules for fault diagnosis and maintenance\nif component1 == \"Faulty\":\n    action = \"Replace component 1\"\nelif component2 == \"Faulty\":\n    action = \"Repair component 2\"\nelif component3 == \"Faulty\":\n    action = \"Replace component 3\"\nelse:\n    action = \"No action required\"\n\n# Output the recommended maintenance action based on the inference rules\nprint(\"Recommended maintenance action:\", action)\n",
      "metadata": {
        "trusted": true
      },
      "execution_count": 4,
      "outputs": [
        {
          "name": "stdout",
          "text": "Recommended maintenance action: Repair component 2\n",
          "output_type": "stream"
        }
      ]
    }
  ]
}